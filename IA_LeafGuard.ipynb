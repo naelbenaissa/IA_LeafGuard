{
 "cells": [
  {
   "cell_type": "code",
   "execution_count": 3,
   "metadata": {},
   "outputs": [],
   "source": [
    "import numpy as np\n",
    "import pandas as pd\n",
    "\n",
    "\n",
    "import os\n",
    "\n",
    "import cv2\n",
    "import os\n",
    "from tqdm import tqdm\n",
    "import matplotlib.pyplot as plt\n",
    "import tensorflow as tf\n",
    "from tqdm import tqdm\n",
    "from keras.utils import to_categorical\n",
    "from sklearn.model_selection import train_test_split\n",
    "from tensorflow import keras\n",
    "from keras import Sequential\n",
    "from tensorflow.keras.applications import Xception\n",
    "from keras.layers import Dense, Dropout, Flatten, Conv2D, MaxPool2D, BatchNormalization, AveragePooling2D,GlobalAveragePooling2D\n",
    "from keras.optimizers import Adam,Adamax\n",
    "from tensorflow.keras.preprocessing.image import ImageDataGenerator\n",
    "from keras.callbacks import ModelCheckpoint, ReduceLROnPlateau\n",
    "from tensorflow.keras.callbacks import EarlyStopping\n",
    "from keras.models import Model,Sequential\n",
    "from tensorflow.keras.layers import Input"
   ]
  },
  {
   "cell_type": "code",
   "execution_count": 4,
   "metadata": {},
   "outputs": [],
   "source": [
    "IMAGE_SIZE = 80\n",
    "COLORS=3\n",
    "BATCH_SIZE = 64\n",
    "RANDOM_STATE=42"
   ]
  },
  {
   "cell_type": "code",
   "execution_count": 5,
   "metadata": {},
   "outputs": [
    {
     "name": "stdout",
     "output_type": "stream",
     "text": [
      "../input/plantdisease/PlantVillage/\n"
     ]
    }
   ],
   "source": [
    "classification_types=['Pepper__bell___Bacterial_spot','Pepper__bell___healthy',\n",
    "                      'Potato___Early_blight','Potato___Late_blight','Potato___healthy',\n",
    "                      'Tomato_Bacterial_spot','Tomato_Early_blight','Tomato_Late_blight',\n",
    "                      'Tomato_Leaf_Mold','Tomato_Septoria_leaf_spot',\n",
    "                      'Tomato_Spider_mites_Two_spotted_spider_mite','Tomato__Target_Spot',\n",
    "                      'Tomato__Tomato_YellowLeaf__Curl_Virus',\n",
    "                      'Tomato__Tomato_mosaic_virus','Tomato_healthy']\n",
    "data_dir = '../input/plantdisease/PlantVillage/'\n",
    "train_dir = os.path.join(data_dir)\n",
    "print(train_dir)"
   ]
  }
 ],
 "metadata": {
  "kernelspec": {
   "display_name": "Python 3",
   "language": "python",
   "name": "python3"
  },
  "language_info": {
   "codemirror_mode": {
    "name": "ipython",
    "version": 3
   },
   "file_extension": ".py",
   "mimetype": "text/x-python",
   "name": "python",
   "nbconvert_exporter": "python",
   "pygments_lexer": "ipython3",
   "version": "3.9.13"
  }
 },
 "nbformat": 4,
 "nbformat_minor": 2
}
