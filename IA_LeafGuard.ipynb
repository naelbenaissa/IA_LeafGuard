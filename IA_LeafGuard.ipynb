{
 "cells": [
  {
   "cell_type": "code",
   "execution_count": null,
   "metadata": {},
   "outputs": [
    {
     "name": "stderr",
     "output_type": "stream",
     "text": [
      "c:\\Users\\naelb\\AppData\\Local\\Programs\\Python\\Python39\\lib\\site-packages\\tqdm\\auto.py:21: TqdmWarning: IProgress not found. Please update jupyter and ipywidgets. See https://ipywidgets.readthedocs.io/en/stable/user_install.html\n",
      "  from .autonotebook import tqdm as notebook_tqdm\n"
     ]
    }
   ],
   "source": [
    "import numpy as np\n",
    "import pandas as pd\n",
    "\n",
    "\n",
    "import os\n",
    "\n",
    "import cv2\n",
    "import os\n",
    "from tqdm import tqdm\n",
    "import matplotlib.pyplot as plt\n",
    "import tensorflow as tf\n",
    "from tqdm import tqdm\n",
    "from keras.utils import to_categorical\n",
    "from sklearn.model_selection import train_test_split\n",
    "from tensorflow import keras\n",
    "from keras import Sequential\n",
    "from tensorflow.keras.applications import Xception\n",
    "from keras.layers import Dense, Dropout, Flatten, Conv2D, MaxPool2D, BatchNormalization, AveragePooling2D,GlobalAveragePooling2D\n",
    "from keras.optimizers import Adam,Adamax\n",
    "from tensorflow.keras.preprocessing.image import ImageDataGenerator\n",
    "from keras.callbacks import ModelCheckpoint, ReduceLROnPlateau\n",
    "from tensorflow.keras.callbacks import EarlyStopping\n",
    "from keras.models import Model,Sequential\n",
    "from tensorflow.keras.layers import Input"
   ]
  },
  {
   "cell_type": "code",
   "execution_count": 11,
   "metadata": {},
   "outputs": [],
   "source": [
    "IMAGE_SIZE = 80\n",
    "COLORS=3\n",
    "BATCH_SIZE = 64\n",
    "RANDOM_STATE=42"
   ]
  },
  {
   "cell_type": "code",
   "execution_count": 13,
   "metadata": {},
   "outputs": [
    {
     "name": "stdout",
     "output_type": "stream",
     "text": [
      "PlantVillage/\n"
     ]
    }
   ],
   "source": [
    "classification_types=['Pepper__bell___Bacterial_spot','Pepper__bell___healthy',\n",
    "                      'Potato___Early_blight','Potato___Late_blight','Potato___healthy',\n",
    "                      'Tomato_Bacterial_spot','Tomato_Early_blight','Tomato_Late_blight',\n",
    "                      'Tomato_Leaf_Mold','Tomato_Septoria_leaf_spot',\n",
    "                      'Tomato_Spider_mites_Two_spotted_spider_mite','Tomato__Target_Spot',\n",
    "                      'Tomato__Tomato_YellowLeaf__Curl_Virus',\n",
    "                      'Tomato__Tomato_mosaic_virus','Tomato_healthy']\n",
    "data_dir = 'PlantVillage/'\n",
    "train_dir = os.path.join(data_dir)\n",
    "print(train_dir)"
   ]
  },
  {
   "cell_type": "code",
   "execution_count": 15,
   "metadata": {},
   "outputs": [
    {
     "data": {
      "text/html": [
       "<div>\n",
       "<style scoped>\n",
       "    .dataframe tbody tr th:only-of-type {\n",
       "        vertical-align: middle;\n",
       "    }\n",
       "\n",
       "    .dataframe tbody tr th {\n",
       "        vertical-align: top;\n",
       "    }\n",
       "\n",
       "    .dataframe thead th {\n",
       "        text-align: right;\n",
       "    }\n",
       "</style>\n",
       "<table border=\"1\" class=\"dataframe\">\n",
       "  <thead>\n",
       "    <tr style=\"text-align: right;\">\n",
       "      <th></th>\n",
       "      <th>File</th>\n",
       "      <th>DiseaseID</th>\n",
       "      <th>Disease_Type</th>\n",
       "      <th>File_Path</th>\n",
       "    </tr>\n",
       "  </thead>\n",
       "  <tbody>\n",
       "    <tr>\n",
       "      <th>0</th>\n",
       "      <td>Pepper__bell___Bacterial_spot\\0022d6b7-d47c-4e...</td>\n",
       "      <td>0</td>\n",
       "      <td>Pepper__bell___Bacterial_spot</td>\n",
       "      <td>PlantVillage/Pepper__bell___Bacterial_spot\\002...</td>\n",
       "    </tr>\n",
       "    <tr>\n",
       "      <th>1</th>\n",
       "      <td>Pepper__bell___Bacterial_spot\\006adb74-934f-44...</td>\n",
       "      <td>0</td>\n",
       "      <td>Pepper__bell___Bacterial_spot</td>\n",
       "      <td>PlantVillage/Pepper__bell___Bacterial_spot\\006...</td>\n",
       "    </tr>\n",
       "    <tr>\n",
       "      <th>2</th>\n",
       "      <td>Pepper__bell___Bacterial_spot\\00f2e69a-1e56-41...</td>\n",
       "      <td>0</td>\n",
       "      <td>Pepper__bell___Bacterial_spot</td>\n",
       "      <td>PlantVillage/Pepper__bell___Bacterial_spot\\00f...</td>\n",
       "    </tr>\n",
       "    <tr>\n",
       "      <th>3</th>\n",
       "      <td>Pepper__bell___Bacterial_spot\\01613cd0-d3cd-4e...</td>\n",
       "      <td>0</td>\n",
       "      <td>Pepper__bell___Bacterial_spot</td>\n",
       "      <td>PlantVillage/Pepper__bell___Bacterial_spot\\016...</td>\n",
       "    </tr>\n",
       "    <tr>\n",
       "      <th>4</th>\n",
       "      <td>Pepper__bell___Bacterial_spot\\0169b9ac-07b9-4b...</td>\n",
       "      <td>0</td>\n",
       "      <td>Pepper__bell___Bacterial_spot</td>\n",
       "      <td>PlantVillage/Pepper__bell___Bacterial_spot\\016...</td>\n",
       "    </tr>\n",
       "  </tbody>\n",
       "</table>\n",
       "</div>"
      ],
      "text/plain": [
       "                                                File  DiseaseID  \\\n",
       "0  Pepper__bell___Bacterial_spot\\0022d6b7-d47c-4e...          0   \n",
       "1  Pepper__bell___Bacterial_spot\\006adb74-934f-44...          0   \n",
       "2  Pepper__bell___Bacterial_spot\\00f2e69a-1e56-41...          0   \n",
       "3  Pepper__bell___Bacterial_spot\\01613cd0-d3cd-4e...          0   \n",
       "4  Pepper__bell___Bacterial_spot\\0169b9ac-07b9-4b...          0   \n",
       "\n",
       "                    Disease_Type  \\\n",
       "0  Pepper__bell___Bacterial_spot   \n",
       "1  Pepper__bell___Bacterial_spot   \n",
       "2  Pepper__bell___Bacterial_spot   \n",
       "3  Pepper__bell___Bacterial_spot   \n",
       "4  Pepper__bell___Bacterial_spot   \n",
       "\n",
       "                                           File_Path  \n",
       "0  PlantVillage/Pepper__bell___Bacterial_spot\\002...  \n",
       "1  PlantVillage/Pepper__bell___Bacterial_spot\\006...  \n",
       "2  PlantVillage/Pepper__bell___Bacterial_spot\\00f...  \n",
       "3  PlantVillage/Pepper__bell___Bacterial_spot\\016...  \n",
       "4  PlantVillage/Pepper__bell___Bacterial_spot\\016...  "
      ]
     },
     "execution_count": 15,
     "metadata": {},
     "output_type": "execute_result"
    }
   ],
   "source": [
    "train_data=[]\n",
    "for id, disease in enumerate(classification_types):\n",
    "    dir = os.path.join(data_dir,disease)\n",
    "    for file in os.listdir(dir):\n",
    "        train_data.append([os.path.join(disease,file),id,disease,os.path.join(dir,file)])\n",
    "\n",
    "\n",
    "train = pd.DataFrame(train_data,columns=['File','DiseaseID','Disease_Type','File_Path'])\n",
    "train.head()"
   ]
  }
 ],
 "metadata": {
  "kernelspec": {
   "display_name": "Python 3",
   "language": "python",
   "name": "python3"
  },
  "language_info": {
   "codemirror_mode": {
    "name": "ipython",
    "version": 3
   },
   "file_extension": ".py",
   "mimetype": "text/x-python",
   "name": "python",
   "nbconvert_exporter": "python",
   "pygments_lexer": "ipython3",
   "version": "3.9.13"
  }
 },
 "nbformat": 4,
 "nbformat_minor": 2
}
